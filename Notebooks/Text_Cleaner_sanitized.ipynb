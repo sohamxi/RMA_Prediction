{
 "cells": [
  {
   "cell_type": "markdown",
   "metadata": {},
   "source": [
    "<div style=\"text-align: center; display:block\">\n",
    "    <div style=\"display: inline-block\">\n",
    "        <h1  style=\"text-align: center\">Text Cleaner Module</h1>\n",
    "        <div style=\"width:80%; text-align: center\"><i>Author:</i> <strong>Soham Mullick</strong> </div>\n",
    "    </div>\n",
    "</div>"
   ]
  },
  {
   "cell_type": "markdown",
   "metadata": {},
   "source": [
    "* This modules is used for the following purpose:\n",
    "    * Clean the text and create processed_prob_desc column\n",
    "    * Create Bigrams and create bigrammed_processed_prob_desc column\n",
    "    \n",
    "##### Module <b>Input</b> : Raw data with problem description\n",
    "##### Module <b>Output</b> : Cleaned data with bigrammed and processed columns\n"
   ]
  },
  {
   "cell_type": "markdown",
   "metadata": {},
   "source": [
    "## Important Concepts\n",
    "\n",
    "#### Problem Description: \n",
    "The Raw text the user inputs to describe the problem with the product or the service of interest\n",
    "\n",
    "#### Processed Problem Description:\n",
    "The cleaned and processed version of the raw text\n",
    "\n",
    "#### Bigrammed Processed Problem Description:\n",
    "After generating bigrams on the cleaned and processed version of the problem description"
   ]
  },
  {
   "cell_type": "markdown",
   "metadata": {},
   "source": [
    "### Importing important modules"
   ]
  },
  {
   "cell_type": "code",
   "execution_count": 1,
   "metadata": {},
   "outputs": [
    {
     "name": "stderr",
     "output_type": "stream",
     "text": [
      "C:\\Users\\somullic\\AppData\\Local\\Continuum\\anaconda3_new\\lib\\site-packages\\gensim\\utils.py:1197: UserWarning: detected Windows; aliasing chunkize to chunkize_serial\n",
      "  warnings.warn(\"detected Windows; aliasing chunkize to chunkize_serial\")\n"
     ]
    }
   ],
   "source": [
    "#Core modules\n",
    "import pandas as pd \n",
    "import configparser\n",
    "import logging\n",
    "import time\n",
    "\n",
    "#Text processing modules\n",
    "import regex as re # to do pattern matching with string data\n",
    "from nltk.corpus import stopwords # to get the nltk list of stopwords\n",
    "from nltk.stem.wordnet import WordNetLemmatizer # to be used for Lemmatization \n",
    "from nltk import word_tokenize # to be used for tokenizing of text\n",
    "\n",
    "#Gensim modules\n",
    "from gensim.models import Phrases # To create bigrams\n",
    "from gensim.models.phrases import Phraser "
   ]
  },
  {
   "cell_type": "markdown",
   "metadata": {},
   "source": [
    "### Read Config and Create Logger"
   ]
  },
  {
   "cell_type": "code",
   "execution_count": null,
   "metadata": {
    "collapsed": true
   },
   "outputs": [],
   "source": [
    "# Loading config file\n",
    "config = configparser.ConfigParser()\n",
    "config.read('./config.ini')\n",
    "\n",
    "# Read config file\n",
    "colName = str(config['Text_cleaner']['Main_cols'])\n",
    "raw_file=str(config['Text_cleaner']['Raw_file'])\n",
    "output_file=str(config['Text_cleaner']['Output_file'])\n",
    "no_stop_words = config['Text_processing']['no_stop_words']\n",
    "added_stop_list = config['Text_processing']['added_stop_list']\n",
    "\n",
    "# Create logger file\n",
    "logging.basicConfig(filename=\"Text_cleaner_{}.log\".format(time.strftime('%b-%d-%Y_%H%M',time.localtime())),level=logging.DEBUG)"
   ]
  },
  {
   "cell_type": "markdown",
   "metadata": {},
   "source": [
    "### Getting prepared to clean"
   ]
  },
  {
   "cell_type": "markdown",
   "metadata": {},
   "source": [
    "Defining Functions to load a file"
   ]
  },
  {
   "cell_type": "code",
   "execution_count": null,
   "metadata": {
    "collapsed": true
   },
   "outputs": [],
   "source": [
    "def getFile(fileName):\n",
    "    try :\n",
    "        raw_data=pd.read_csv(fileName,encoding='latin-1') #Change the Filename in config to use different Dataset\n",
    "    except FileNotFoundError:\n",
    "        print('\\n File name not Correct. Please try again')\n",
    "    return raw_data\n",
    "\n",
    "def getColumnNames(colName):\n",
    "    '''\n",
    "    to get the required list of column names\n",
    "    '''\n",
    "    colName= colName.replace(' ','').split(',')\n",
    "    return colName\n",
    "    "
   ]
  },
  {
   "cell_type": "markdown",
   "metadata": {},
   "source": [
    "### Cleaning steps"
   ]
  },
  {
   "cell_type": "markdown",
   "metadata": {},
   "source": [
    "The following snippets clean up the text"
   ]
  },
  {
   "cell_type": "code",
   "execution_count": null,
   "metadata": {
    "collapsed": true
   },
   "outputs": [],
   "source": [
    "def process(document):\n",
    "    document=str(document) \n",
    "    tokens = [lemmatizer.lemmatize((str(t))) for t in word_tokenize(document) if (str(t)).lower() not in stop_words] #converting words into lemmatized tokens\n",
    "    output= \" \".join(tokens) #Joining the lemmatised tokens\n",
    "    output = re.sub(r'((?<=[a-z])[A-Z]|(?<!\\A)[A-Z](?=[a-z]))', r' \\1',output).lower() #splitting camelCase entries\n",
    "    output =  re.sub(r'\\b\\d+(?:\\.\\d+)?\\s+', '', output) # Removing all numbers\n",
    "    output =  re.sub(r\"(?<=[a-z])\\r?\\n\",\" \", output) # Removing escape character and new line entries\n",
    "    output = re.sub(r'\\W+',r' ',output) #removing special characters\n",
    "    output =  re.sub(r\"'\", \"\", output) # Removing all single quotes\n",
    "    output =  re.sub(r\",\", \" \", output) # Replacing commas with white space\n",
    "    output =  re.sub(r\"\\b[a-zA-Z]\\b\", \"\", output) # Removing single letter\n",
    "    output = re.sub(r\"(^| ).( |$)\",' ',output) # Removing single character words\n",
    "    output =  re.sub(r'\\w*\\d\\w*', '', output).strip() #Stripping whitespaces\n",
    "    return output"
   ]
  },
  {
   "cell_type": "markdown",
   "metadata": {},
   "source": [
    "### Create Bigram"
   ]
  },
  {
   "cell_type": "markdown",
   "metadata": {},
   "source": [
    "The following function modules are used to extract and create bigrams from the text\n",
    "\n",
    "The bigrams are made to a single entity by joining the unigrams by '_'"
   ]
  },
  {
   "cell_type": "code",
   "execution_count": null,
   "metadata": {
    "collapsed": true
   },
   "outputs": [],
   "source": [
    "# Using iterable class to be used by word2vec\n",
    "class Sentence(object):\n",
    "    def __init__(self, doc_list):\n",
    "        self.doc_list = list(doc_list)\n",
    "       #print(\"1\")\n",
    "    def __iter__(self):\n",
    "        for doc in self.doc_list:\n",
    "            yield str(doc).split()\n",
    "\n",
    "# Used to identify bigram terms\n",
    "def bigram_trainer(sentence,common_list):\n",
    "    bigram = Phrases(sentence,min_count=20,common_terms=common_list)\n",
    "    bigrammer= Phraser(bigram)\n",
    "    return bigrammer\n",
    "\n",
    "# Used to create bigram tokens from unigram words\n",
    "def bigram_maker(bigrammer,data):\n",
    "    bigrammed_list=[]\n",
    "    for i in data:\n",
    "        bigram_tokens=bigrammer[i]\n",
    "        bigram_sent=\" \".join(bigram_tokens)\n",
    "        bigrammed_list.append(bigram_sent)\n",
    "    return bigrammed_list\n",
    "\n",
    "# Create vocabulary using bigram terms\n",
    "def bigram_counter(sentence,common_list):\n",
    "    bigram = Phrases(min_count=phrase_min_count,threshold=bigram_threshold,common_terms=common_list)\n",
    "    bigram.add_vocab(sentence)\n",
    "    return bigram.vocab\n",
    "\n",
    "# Create bigrammed_prob_desc column\n",
    "def bigram(df,Output_file,common_list=added_stop_list,saveFile=False):\n",
    "    sentence=Sentence(df['processed_prob_desc'])\n",
    "    bigrammer=bigram_trainer(sentence,common_list)\n",
    "    df['bigrammed_processed_prob_desc']=bigram_maker(bigrammer,sentence)\n",
    "    if saveFile:\n",
    "        df.to_csv(Output_file,index=False)\n",
    "    return None"
   ]
  },
  {
   "cell_type": "markdown",
   "metadata": {},
   "source": [
    "The following attributes decide on how bigrams are going to be created"
   ]
  },
  {
   "cell_type": "code",
   "execution_count": null,
   "metadata": {
    "collapsed": true
   },
   "outputs": [],
   "source": [
    "# Bigram hyper-parameters\n",
    "phrase_min_count=20     #Lower value gives more bigrams\n",
    "bigram_threshold=10     #Lower value gives more bigrams"
   ]
  },
  {
   "cell_type": "markdown",
   "metadata": {},
   "source": [
    "### Stop Words"
   ]
  },
  {
   "cell_type": "code",
   "execution_count": null,
   "metadata": {
    "collapsed": true
   },
   "outputs": [],
   "source": [
    "# Words to be considered\n",
    "no_stop_words = list(no_stop_words.replace(' ', '').split(','))\n",
    "\n",
    "# words to be filtered\n",
    "added_stop_list = list(added_stop_list.replace(' ', '').split(','))\n",
    "\n",
    "# Load stop-words\n",
    "stop_words= stopwords.words('english')+added_stop_list\n",
    "stop_words = set(stop_words)-set(no_stop_words)"
   ]
  },
  {
   "cell_type": "markdown",
   "metadata": {},
   "source": [
    "### Load Data"
   ]
  },
  {
   "cell_type": "code",
   "execution_count": null,
   "metadata": {
    "collapsed": true,
    "scrolled": true
   },
   "outputs": [],
   "source": [
    "raw_data=getFile(raw_file)\n",
    "colName=getColumnNames(colName)\n",
    "raw_data=raw_data[colName]\n",
    "raw_data.head()"
   ]
  },
  {
   "cell_type": "markdown",
   "metadata": {},
   "source": [
    "### Basic Info about the Dataset"
   ]
  },
  {
   "cell_type": "code",
   "execution_count": null,
   "metadata": {},
   "outputs": [],
   "source": [
    "logging.debug('Total No. of cases in raw data '+str(len(raw_data)))\n",
    "logging.debug('Total No. of class1 in raw data '+str(len(raw_data[raw_data['rma_flag']==0])))\n",
    "logging.debug('Total No. of class2 in raw data '+str(len(raw_data[raw_data['rma_flag']==1])))"
   ]
  },
  {
   "cell_type": "markdown",
   "metadata": {},
   "source": [
    "### Text Cleaning Steps"
   ]
  },
  {
   "cell_type": "code",
   "execution_count": null,
   "metadata": {
    "collapsed": true
   },
   "outputs": [],
   "source": [
    "# Initialize lemmatizer\n",
    "lemmatizer = WordNetLemmatizer()\n",
    "\n",
    "#Start Cleaning\n",
    "raw_data['processed_prob_desc']=raw_data['prob_desc'].apply(lambda x: process(x))"
   ]
  },
  {
   "cell_type": "markdown",
   "metadata": {},
   "source": [
    "### Clean Output"
   ]
  },
  {
   "cell_type": "code",
   "execution_count": null,
   "metadata": {
    "collapsed": true
   },
   "outputs": [],
   "source": [
    "raw_data.head()"
   ]
  },
  {
   "cell_type": "markdown",
   "metadata": {},
   "source": [
    "### Create Bigram and Save Output File"
   ]
  },
  {
   "cell_type": "code",
   "execution_count": null,
   "metadata": {
    "collapsed": true
   },
   "outputs": [],
   "source": [
    "bigram(raw_data,output_file,saveFile=True)"
   ]
  }
 ],
 "metadata": {
  "kernelspec": {
   "display_name": "Python 3",
   "language": "python",
   "name": "python3"
  },
  "language_info": {
   "codemirror_mode": {
    "name": "ipython",
    "version": 3
   },
   "file_extension": ".py",
   "mimetype": "text/x-python",
   "name": "python",
   "nbconvert_exporter": "python",
   "pygments_lexer": "ipython3",
   "version": "3.6.3"
  }
 },
 "nbformat": 4,
 "nbformat_minor": 2
}
