{
 "cells": [
  {
   "cell_type": "markdown",
   "metadata": {},
   "source": [
    "<div style=\"text-align: center; display:block\">\n",
    "    <div style=\"display: inline-block\">\n",
    "        <h1  style=\"text-align: center\">Prediction Model Binary Text Classification</h1>\n",
    "        <div style=\"width:80%; text-align: center\"><i>Author:</i> <strong>Soham Mullick</strong> </div>\n",
    "    </div>\n",
    "</div>"
   ]
  },
  {
   "cell_type": "markdown",
   "metadata": {},
   "source": [
    "The purpose of this module is to compile and train a deep neural network on the training examples(generated from previous module) to make predictions on the avoidability of an RMA request\n",
    "\n",
    "\n",
    "<b>Input</b>- Processed and Bigrammed Labelled dataset\n",
    "\n",
    "<b>Output</b> - Trained Model Structure,Trained Model Weights,Trained Tokenizer Object"
   ]
  },
  {
   "cell_type": "markdown",
   "metadata": {},
   "source": [
    "#### Load Required Libraries"
   ]
  },
  {
   "cell_type": "code",
   "execution_count": 1,
   "metadata": {},
   "outputs": [
    {
     "name": "stderr",
     "output_type": "stream",
     "text": [
      "Using TensorFlow backend.\n",
      "/usr/lib/python3.6/site-packages/ggplot/utils.py:81: FutureWarning: pandas.tslib is deprecated and will be removed in a future version.\n",
      "You can access Timestamp as pandas.Timestamp\n",
      "  pd.tslib.Timestamp,\n",
      "/usr/lib/python3.6/site-packages/ggplot/stats/smoothers.py:4: FutureWarning: The pandas.lib module is deprecated and will be removed in a future version. These are private functions and can be accessed from pandas._libs.lib instead\n",
      "  from pandas.lib import Timestamp\n",
      "/usr/lib/python3.6/site-packages/statsmodels/compat/pandas.py:56: FutureWarning: The pandas.core.datetools module is deprecated and will be removed in a future version. Please use the pandas.tseries module instead.\n",
      "  from pandas.core import datetools\n"
     ]
    }
   ],
   "source": [
    "# Core Modules\n",
    "import os\n",
    "import numpy as np\n",
    "import pandas as pd\n",
    "import configparser\n",
    "import logging\n",
    "import time\n",
    "from numpy import random\n",
    "import logging\n",
    "\n",
    "# Text to Sequence Modules\n",
    "from keras.preprocessing.text import Tokenizer\n",
    "from keras.preprocessing.sequence import pad_sequences\n",
    "from keras import utils as np_utils\n",
    "\n",
    "# Word2Vec Library\n",
    "from gensim.models import word2vec\n",
    "from gensim.models.word2vec import Word2Vec\n",
    "\n",
    "#Tensorflow\n",
    "import tensorflow as tf\n",
    "\n",
    "#Scikit Learn Packages for Model Evaluation\n",
    "from sklearn.utils import shuffle\n",
    "from sklearn.model_selection import train_test_split\n",
    "from sklearn.utils import class_weight\n",
    "from sklearn.metrics import confusion_matrix\n",
    "from sklearn.metrics import roc_auc_score\n",
    "from sklearn.metrics import roc_curve\n",
    "\n",
    "#Keras Modules for Deep Net Architecture\n",
    "from keras.models import Sequential, Model\n",
    "from keras.layers import (Activation, Dense, Dropout, Embedding, \n",
    "                          Flatten, Input, \n",
    "                          Conv1D, MaxPooling1D,LSTM)\n",
    "from keras.layers.merge import Concatenate\n",
    "from keras import metrics\n",
    "from keras import callbacks\n",
    "from keras.models import Sequential, Model\n",
    "from keras.layers import (Activation, Dense, Dropout, Embedding, PReLU,\n",
    "                          Flatten, Input, BatchNormalization,\n",
    "                          Conv1D, MaxPooling1D,LSTM)\n",
    "from keras.layers.merge import Concatenate\n",
    "from keras import metrics\n",
    "from keras import callbacks\n",
    "from keras.callbacks import EarlyStopping, ModelCheckpoint\n",
    "from keras.callbacks import TensorBoard\n",
    "\n",
    "# Modules used for Visualizations\n",
    "import matplotlib.pyplot as plt\n",
    "from ggplot import *\n",
    "import pickle"
   ]
  },
  {
   "cell_type": "markdown",
   "metadata": {},
   "source": [
    "### Defining Input Sources and Column name Variables"
   ]
  },
  {
   "cell_type": "code",
   "execution_count": 3,
   "metadata": {
    "collapsed": true
   },
   "outputs": [],
   "source": [
    "clean_file = \"./Data/Final_ADS_cleaned_bigrammed.csv\"  #Input File Name\n",
    "word2vec_file = \"./w2v_embedding\"                      #Trained Word Embedding\n",
    "datacol_ug = \"processed_prob_desc\"                     #Column Name To be used for unigram analysis\n",
    "datacol_bg = \"bigrammed_processed_prob_desc\"           #Column Name To be used for Bigram analysis\n",
    "flag = \"rma_flag\"                                      #Column Name for the Label"
   ]
  },
  {
   "cell_type": "markdown",
   "metadata": {},
   "source": [
    "#### Model Control Box"
   ]
  },
  {
   "cell_type": "code",
   "execution_count": 7,
   "metadata": {
    "collapsed": true
   },
   "outputs": [],
   "source": [
    "##Prepare ADS by tweaking the rma ratio\n",
    "use_bg=True\n",
    "rma_ratio=0.1                   # Value must be less than 1(rma_ratio=No. of RMA cases/ No. of NO RMA cases to be kept in ADS)\n",
    "\n",
    "## text2sequence Controls\n",
    "MAX_NB_WORDS=None                   #Max number of words in current word embedding\n",
    "MAX_SEQUENCE_LENGTH=100             # Max Sequence Length\n",
    "\n",
    "## Deep Layer Controls\n",
    "embedding_size=300                  # Must be same as the word embedding vector length\n",
    "loss='binary_crossentropy'          #Loss Funtion - to bes used for calculating and minimising loss throughout the training   \n",
    "optimizer='sgd'                     #Optimiser - Algorithm to be used for minimising the loss function\n",
    "model_epoch=80                      #No. of epochs to run\n",
    "model_batch=128                     #Batch Size - no. of examples to be considered for a single forward pass of the network"
   ]
  },
  {
   "cell_type": "markdown",
   "metadata": {},
   "source": [
    "### Create Logging File"
   ]
  },
  {
   "cell_type": "code",
   "execution_count": null,
   "metadata": {
    "collapsed": true
   },
   "outputs": [],
   "source": [
    "# Create logger file\n",
    "logging.basicConfig(filename=\"Prediction_Model_Training_{}.log\".format(time.strftime('%b-%d-%Y_%H%M',time.localtime())),level=logging.DEBUG)"
   ]
  },
  {
   "cell_type": "markdown",
   "metadata": {},
   "source": [
    "### Defining the functions"
   ]
  },
  {
   "cell_type": "code",
   "execution_count": 4,
   "metadata": {
    "collapsed": true
   },
   "outputs": [],
   "source": [
    "def getFile(fileName):\n",
    "    try :\n",
    "        raw_data=pd.read_csv(fileName,encoding='latin-1') #Change the Filename in config to use different Dataset\n",
    "    except FileNotFoundError:\n",
    "        print('\\n File name not Correct. Please try again')\n",
    "    return raw_data"
   ]
  },
  {
   "cell_type": "markdown",
   "metadata": {},
   "source": [
    "#### Converting Text data to Suitable Sequence be used for Deep Layers (Converting to Sequence of tensors)"
   ]
  },
  {
   "cell_type": "code",
   "execution_count": 13,
   "metadata": {
    "collapsed": true
   },
   "outputs": [],
   "source": [
    "#To Convert a list into list of strings\n",
    "def stringConverter(list1):\n",
    "    list2=[str(i) for i in list1]\n",
    "    return list2\n",
    "\n",
    "#To Convert text to sequence to be used for creating training and test datasets \n",
    "def pre_process(df,bigram=True):\n",
    "    label_list=df[flag]\n",
    "    if bigram:\n",
    "        s=df[datacol_bg]\n",
    "    else:\n",
    "        s=df[datacol_ug]\n",
    "    text_list=stringConverter(s)                                                               #Creates List of Strings\n",
    "    tokenizer = Tokenizer(num_words=MAX_NB_WORDS,filters='!\"#$%&()*+,-./:;<=>?@[\\]^`{|}~\\t\\n') #Initialise Tokenizer Object\n",
    "    tokenizer.fit_on_texts(text_list)                                        #Train tokenizer object on the List of Strings\n",
    "    #Saves the Learned tokenizer object to be used in live prediction phase\n",
    "    with open('tokenizer_object.pickle', 'wb') as handle:\n",
    "        pickle.dump(tokenizer, handle, protocol=pickle.HIGHEST_PROTOCOL)\n",
    "    sequences = tokenizer.texts_to_sequences(text_list)                                      #Convert from text to sequence \n",
    "    word_index = tokenizer.word_index \n",
    "    logging.debug('Found %s unique tokens.' % len(word_index)) \n",
    "    data = pad_sequences(sequences, maxlen=MAX_SEQUENCE_LENGTH)                     #Pad converted sequence to fixed length\n",
    "    labels = np_utils.to_categorical(np.asarray(label_list))   #Converting to categorical to be used as labels for training\n",
    "    logging.debug('Shape of data tensor:', data.shape)\n",
    "    logging.debug('Shape of label tensor:', labels.shape)\n",
    "    return data,labels,label_list,tokenizer"
   ]
  },
  {
   "cell_type": "markdown",
   "metadata": {},
   "source": [
    "#### Load Raw Data"
   ]
  },
  {
   "cell_type": "code",
   "execution_count": 5,
   "metadata": {
    "collapsed": true
   },
   "outputs": [],
   "source": [
    "raw_data=getFile(clean_file)\n",
    "logging.debug(\"In Raw dataset the number of #RMA's are: \"+str(len(raw_data[raw_data[flag]==0]))+\" and the number of #No RMA's are: \"+str(len(raw_data[raw_data[flag]==1])))"
   ]
  },
  {
   "cell_type": "markdown",
   "metadata": {},
   "source": [
    "#### Create ADS to be used for training and testing of Model"
   ]
  },
  {
   "cell_type": "code",
   "execution_count": 8,
   "metadata": {
    "collapsed": true
   },
   "outputs": [],
   "source": [
    "ADS = raw_data"
   ]
  },
  {
   "cell_type": "markdown",
   "metadata": {},
   "source": [
    "### Sampling Techniques to sub-sample/oversample the ADS to generate Training and Test Datasets"
   ]
  },
  {
   "cell_type": "code",
   "execution_count": 9,
   "metadata": {
    "collapsed": true
   },
   "outputs": [],
   "source": [
    "# FOR UNDERSAMPLING\n",
    "df1=ADS[ADS[flag]==0]\n",
    "no_rma_case=min(int(1/rma_ratio)*len(df1),len(ADS[ADS[flag]==1]))\n",
    "df2=ADS[ADS[flag]==1]\n",
    "df3=df2.sample(no_rma_case)\n",
    "frames=[df1,df3]\n",
    "ADS=pd.concat(frames)\n",
    "ADS = shuffle(ADS)"
   ]
  },
  {
   "cell_type": "code",
   "execution_count": 10,
   "metadata": {
    "collapsed": true
   },
   "outputs": [],
   "source": [
    "# FOR OVERSAMPLING with Replication\n",
    "from sklearn.utils import resample\n",
    "df1=ADS[ADS[flag]==0]\n",
    "df2=ADS[ADS[flag]==1]\n",
    "# Upsample minority class\n",
    "df_upsampled = resample(df1,replace=True,               # sample with replacement\n",
    "                                 n_samples=len(df2),    # to match majority class\n",
    "                                 random_state=123)      # reproducible results\n",
    " \n",
    "# Combine majority class with upsampled minority class\n",
    "ADS = shuffle(pd.concat([df_upsampled, df2]))"
   ]
  },
  {
   "cell_type": "markdown",
   "metadata": {},
   "source": [
    "#### Basic Info Regarding the ADS"
   ]
  },
  {
   "cell_type": "code",
   "execution_count": 11,
   "metadata": {},
   "outputs": [
    {
     "name": "stdout",
     "output_type": "stream",
     "text": [
      "Number of cases in ADS: 17520\n",
      "In ADS the number of #RMA's are: 3522 and the number of #No RMA's are: 13998\n"
     ]
    }
   ],
   "source": [
    "print(\"Number of cases in ADS: \"+str(len(ADS)))#+\"    Number of cases in Validation Dataset: \"+str(len(val_data)))\n",
    "print(\"In ADS the number of #RMA's are: \"+str(len(ADS[ADS[flag]==0]))+\" and the number of #No RMA's are: \"+str((len(ADS[ADS[flag]==1]))))"
   ]
  },
  {
   "cell_type": "markdown",
   "metadata": {},
   "source": [
    "#### Pre-Process Data for Model Training"
   ]
  },
  {
   "cell_type": "code",
   "execution_count": 14,
   "metadata": {
    "collapsed": true
   },
   "outputs": [],
   "source": [
    "data,labels,ADS_label_list,tokenizer=pre_process(ADS,use_bg)"
   ]
  },
  {
   "cell_type": "markdown",
   "metadata": {},
   "source": [
    "#### Generate Train and Test Data"
   ]
  },
  {
   "cell_type": "code",
   "execution_count": 16,
   "metadata": {
    "collapsed": true
   },
   "outputs": [],
   "source": [
    "train_data,test_data=train_test_split(ADS, test_size=0.2,stratify=ADS[flag],random_state=50)"
   ]
  },
  {
   "cell_type": "markdown",
   "metadata": {},
   "source": [
    "#### Save The Training and Test Datasets"
   ]
  },
  {
   "cell_type": "code",
   "execution_count": 17,
   "metadata": {
    "collapsed": true
   },
   "outputs": [],
   "source": [
    "test_data.to_csv(\"cat2k_retraining_may9_iter2_test.csv\")"
   ]
  },
  {
   "cell_type": "code",
   "execution_count": 18,
   "metadata": {
    "collapsed": true
   },
   "outputs": [],
   "source": [
    "train_data.to_csv(\"cat2k_retraining_may9_iter2_train.csv\")"
   ]
  },
  {
   "cell_type": "markdown",
   "metadata": {},
   "source": [
    "#### Generate Feature Vector (Input) and Labels (Output) for model training"
   ]
  },
  {
   "cell_type": "code",
   "execution_count": 19,
   "metadata": {
    "collapsed": true
   },
   "outputs": [],
   "source": [
    "x_train, x_test, y_train,y_test,train_label,test_label = train_test_split(data,labels,ADS_label_list, test_size=0.2,stratify=ADS_label_list,random_state=50)"
   ]
  },
  {
   "cell_type": "markdown",
   "metadata": {},
   "source": [
    "### Load Pre-Trained Word2Vec"
   ]
  },
  {
   "cell_type": "code",
   "execution_count": 12,
   "metadata": {
    "collapsed": true
   },
   "outputs": [],
   "source": [
    "# Loading Pre-trained word2vec model to be used as Embedding layer in Deep Model\n",
    "embedding = Word2Vec.load(word2vec_file)"
   ]
  },
  {
   "cell_type": "markdown",
   "metadata": {},
   "source": [
    "#### Extracting the embedded word vectors\n"
   ]
  },
  {
   "cell_type": "code",
   "execution_count": 15,
   "metadata": {
    "collapsed": true
   },
   "outputs": [],
   "source": [
    "embedding_matrix = np.zeros((len(tokenizer.word_index)+1, embedding_size))\n",
    "for word, i in tokenizer.word_index.items():                            \n",
    "    try:\n",
    "        embedding_vector = embedding.wv[word]\n",
    "        if embedding_vector is not None:\n",
    "            embedding_matrix[i] = embedding_vector\n",
    "    except:\n",
    "        continue"
   ]
  },
  {
   "cell_type": "markdown",
   "metadata": {},
   "source": [
    "### Build Prediction model"
   ]
  },
  {
   "cell_type": "markdown",
   "metadata": {},
   "source": [
    "#### Creating Layers"
   ]
  },
  {
   "cell_type": "code",
   "execution_count": 22,
   "metadata": {
    "collapsed": true
   },
   "outputs": [],
   "source": [
    "# Both the Layers and their hyper-parameters are customisable\n",
    "deep_model=Sequential()\n",
    "deep_model.add(Embedding(len(tokenizer.word_index) + 1,\n",
    "                            embedding_size,\n",
    "                            weights=[embedding_matrix],\n",
    "                            input_length=MAX_SEQUENCE_LENGTH,\n",
    "                            trainable=False))\n",
    "\n",
    "deep_model.add(Dense(512,kernel_initializer='truncated_normal'))\n",
    "deep_model.add(BatchNormalization())\n",
    "deep_model.add(Activation('relu'))\n",
    "deep_model.add(Dropout(0.25))\n",
    "\n",
    "deep_model.add(Dense(256,kernel_initializer='truncated_normal'))\n",
    "deep_model.add(BatchNormalization())\n",
    "deep_model.add(Activation('relu'))\n",
    "deep_model.add(Dropout(0.25))\n",
    "\n",
    "deep_model.add(Dense(128,kernel_initializer='truncated_normal'))\n",
    "deep_model.add(BatchNormalization())\n",
    "deep_model.add(Activation('relu'))\n",
    "deep_model.add(Dropout(0.25))\n",
    "\n",
    "deep_model.add(Dense(64,kernel_initializer='truncated_normal'))\n",
    "deep_model.add(BatchNormalization())\n",
    "deep_model.add(Activation('relu'))\n",
    "deep_model.add(Dropout(0.25))\n",
    "\n",
    "deep_model.add(Dense(32,kernel_initializer='truncated_normal'))\n",
    "deep_model.add(BatchNormalization())\n",
    "deep_model.add(Activation('relu'))\n",
    "deep_model.add(Dropout(0.25))\n",
    "\n",
    "deep_model.add(Flatten())\n",
    "\n",
    "deep_model.add(Dense(1600,kernel_initializer='truncated_normal'))\n",
    "deep_model.add(BatchNormalization())\n",
    "deep_model.add(Activation('relu'))\n",
    "\n",
    "deep_model.add(Dense(800,kernel_initializer='truncated_normal'))\n",
    "deep_model.add(BatchNormalization())\n",
    "deep_model.add(Activation('relu'))\n",
    "\n",
    "deep_model.add(Dense(200,kernel_initializer='truncated_normal'))\n",
    "deep_model.add(BatchNormalization())\n",
    "deep_model.add(Activation('relu'))\n",
    "\n",
    "deep_model.add(Dense(20,kernel_initializer='truncated_normal'))\n",
    "deep_model.add(BatchNormalization())\n",
    "deep_model.add(Activation('relu'))\n",
    "\n",
    "\n",
    "deep_model.add(Dense(2,activation='softmax'))"
   ]
  },
  {
   "cell_type": "markdown",
   "metadata": {},
   "source": [
    "#### Summary of the Layers we have"
   ]
  },
  {
   "cell_type": "code",
   "execution_count": 26,
   "metadata": {},
   "outputs": [
    {
     "name": "stdout",
     "output_type": "stream",
     "text": [
      "_________________________________________________________________\n",
      "Layer (type)                 Output Shape              Param #   \n",
      "=================================================================\n",
      "embedding_1 (Embedding)      (None, 100, 300)          3516900   \n",
      "_________________________________________________________________\n",
      "dense_1 (Dense)              (None, 100, 512)          154112    \n",
      "_________________________________________________________________\n",
      "batch_normalization_1 (Batch (None, 100, 512)          2048      \n",
      "_________________________________________________________________\n",
      "activation_1 (Activation)    (None, 100, 512)          0         \n",
      "_________________________________________________________________\n",
      "dropout_1 (Dropout)          (None, 100, 512)          0         \n",
      "_________________________________________________________________\n",
      "dense_2 (Dense)              (None, 100, 256)          131328    \n",
      "_________________________________________________________________\n",
      "batch_normalization_2 (Batch (None, 100, 256)          1024      \n",
      "_________________________________________________________________\n",
      "activation_2 (Activation)    (None, 100, 256)          0         \n",
      "_________________________________________________________________\n",
      "dropout_2 (Dropout)          (None, 100, 256)          0         \n",
      "_________________________________________________________________\n",
      "dense_3 (Dense)              (None, 100, 128)          32896     \n",
      "_________________________________________________________________\n",
      "batch_normalization_3 (Batch (None, 100, 128)          512       \n",
      "_________________________________________________________________\n",
      "activation_3 (Activation)    (None, 100, 128)          0         \n",
      "_________________________________________________________________\n",
      "dropout_3 (Dropout)          (None, 100, 128)          0         \n",
      "_________________________________________________________________\n",
      "dense_4 (Dense)              (None, 100, 64)           8256      \n",
      "_________________________________________________________________\n",
      "batch_normalization_4 (Batch (None, 100, 64)           256       \n",
      "_________________________________________________________________\n",
      "activation_4 (Activation)    (None, 100, 64)           0         \n",
      "_________________________________________________________________\n",
      "dropout_4 (Dropout)          (None, 100, 64)           0         \n",
      "_________________________________________________________________\n",
      "dense_5 (Dense)              (None, 100, 32)           2080      \n",
      "_________________________________________________________________\n",
      "batch_normalization_5 (Batch (None, 100, 32)           128       \n",
      "_________________________________________________________________\n",
      "activation_5 (Activation)    (None, 100, 32)           0         \n",
      "_________________________________________________________________\n",
      "dropout_5 (Dropout)          (None, 100, 32)           0         \n",
      "_________________________________________________________________\n",
      "flatten_1 (Flatten)          (None, 3200)              0         \n",
      "_________________________________________________________________\n",
      "dense_6 (Dense)              (None, 1600)              5121600   \n",
      "_________________________________________________________________\n",
      "batch_normalization_6 (Batch (None, 1600)              6400      \n",
      "_________________________________________________________________\n",
      "activation_6 (Activation)    (None, 1600)              0         \n",
      "_________________________________________________________________\n",
      "dense_7 (Dense)              (None, 800)               1280800   \n",
      "_________________________________________________________________\n",
      "batch_normalization_7 (Batch (None, 800)               3200      \n",
      "_________________________________________________________________\n",
      "activation_7 (Activation)    (None, 800)               0         \n",
      "_________________________________________________________________\n",
      "dense_8 (Dense)              (None, 200)               160200    \n",
      "_________________________________________________________________\n",
      "batch_normalization_8 (Batch (None, 200)               800       \n",
      "_________________________________________________________________\n",
      "activation_8 (Activation)    (None, 200)               0         \n",
      "_________________________________________________________________\n",
      "dense_9 (Dense)              (None, 20)                4020      \n",
      "_________________________________________________________________\n",
      "batch_normalization_9 (Batch (None, 20)                80        \n",
      "_________________________________________________________________\n",
      "activation_9 (Activation)    (None, 20)                0         \n",
      "_________________________________________________________________\n",
      "dense_10 (Dense)             (None, 2)                 42        \n",
      "=================================================================\n",
      "Total params: 10,426,682\n",
      "Trainable params: 6,902,558\n",
      "Non-trainable params: 3,524,124\n",
      "_________________________________________________________________\n"
     ]
    }
   ],
   "source": [
    "deep_model.summary()"
   ]
  },
  {
   "cell_type": "markdown",
   "metadata": {},
   "source": [
    "#### Saving the Model architecture (JSON format)"
   ]
  },
  {
   "cell_type": "code",
   "execution_count": 27,
   "metadata": {
    "collapsed": true
   },
   "outputs": [],
   "source": [
    "serialize model to JSON\n",
    "model_json = deep_model.to_json()\n",
    "with open(\"deep_model_rma_classification.json\", \"w\") as json_file:\n",
    "    json_file.write(model_json)"
   ]
  },
  {
   "cell_type": "markdown",
   "metadata": {},
   "source": [
    "#### Creating Class Weights for Class Sensitive Cost Function"
   ]
  },
  {
   "cell_type": "code",
   "execution_count": 23,
   "metadata": {},
   "outputs": [
    {
     "name": "stdout",
     "output_type": "stream",
     "text": [
      "{0: 2.4868701206529455, 1: 0.62582604036435074}\n"
     ]
    }
   ],
   "source": [
    "class_weight = class_weight.compute_class_weight('balanced', np.unique(train_label), train_label)\n",
    "class_weight_dict = dict(enumerate(class_weight))\n",
    "print(class_weight_dict)"
   ]
  },
  {
   "cell_type": "markdown",
   "metadata": {},
   "source": [
    "#### Defining the Loss function and the optimiser to be used for training"
   ]
  },
  {
   "cell_type": "code",
   "execution_count": 24,
   "metadata": {
    "collapsed": true
   },
   "outputs": [],
   "source": [
    "deep_model.compile(loss=loss, optimizer=optimizer,metrics=[metrics.mse, metrics.binary_accuracy])"
   ]
  },
  {
   "cell_type": "markdown",
   "metadata": {},
   "source": [
    "#### Defining path to save model weights"
   ]
  },
  {
   "cell_type": "code",
   "execution_count": 25,
   "metadata": {
    "collapsed": true
   },
   "outputs": [],
   "source": [
    "# Define checkpoint\n",
    "output_dir = 'output_Logs/iter2'\n",
    "modelcheckpoint = ModelCheckpoint(filepath=output_dir+\"/weights.{epoch:02d}.hdf5\")"
   ]
  },
  {
   "cell_type": "markdown",
   "metadata": {},
   "source": [
    "#### Fit the model to training data and get accuracy on test data"
   ]
  },
  {
   "cell_type": "code",
   "execution_count": 28,
   "metadata": {},
   "outputs": [
    {
     "name": "stdout",
     "output_type": "stream",
     "text": [
      "Train on 14016 samples, validate on 3504 samples\n",
      "Epoch 1/80\n",
      "14016/14016 [==============================] - 56s 4ms/step - loss: 0.7086 - mean_squared_error: 0.2410 - binary_accuracy: 0.5823 - val_loss: 0.8736 - val_mean_squared_error: 0.3382 - val_binary_accuracy: 0.2009\n",
      "14016/14016 [==============================] - 51s 4ms/step - loss: 0.4945 - mean_squared_error: 0.1716 - binary_accuracy: 0.7451 - val_loss: 0.8438 - val_mean_squared_error: 0.3141 - val_binary_accuracy: 0.4304\n",
      "Epoch 4/80\n",
      "14016/14016 [==============================] - 51s 4ms/step - loss: 0.4526 - mean_squared_error: 0.1505 - binary_accuracy: 0.7918 - val_loss: 0.5438 - val_mean_squared_error: 0.1788 - val_binary_accuracy: 0.7483\n",
      "Epoch 5/80\n",
      "14016/14016 [==============================] - 52s 4ms/step - loss: 0.4278 - mean_squared_error: 0.1381 - binary_accuracy: 0.8084 - val_loss: 0.4652 - val_mean_squared_error: 0.1471 - val_binary_accuracy: 0.7939\n",
      "Epoch 6/80\n",
      "14016/14016 [==============================] - 52s 4ms/step - loss: 0.4099 - mean_squared_error: 0.1319 - binary_accuracy: 0.8186 - val_loss: 0.4527 - val_mean_squared_error: 0.1408 - val_binary_accuracy: 0.8051\n",
      "Epoch 7/80\n",
      "14016/14016 [==============================] - 52s 4ms/step - loss: 0.4012 - mean_squared_error: 0.1268 - binary_accuracy: 0.8254 - val_loss: 0.4043 - val_mean_squared_error: 0.1243 - val_binary_accuracy: 0.8348\n",
      "Epoch 8/80\n",
      "14016/14016 [==============================] - 52s 4ms/step - loss: 0.3990 - mean_squared_error: 0.1254 - binary_accuracy: 0.8259 - val_loss: 0.4433 - val_mean_squared_error: 0.1375 - val_binary_accuracy: 0.8122\n",
      "Epoch 9/80\n",
      "14016/14016 [==============================] - 52s 4ms/step - loss: 0.3866 - mean_squared_error: 0.1217 - binary_accuracy: 0.8343 - val_loss: 0.4223 - val_mean_squared_error: 0.1303 - val_binary_accuracy: 0.8205\n",
      "Epoch 10/80\n",
      "14016/14016 [==============================] - 51s 4ms/step - loss: 0.3880 - mean_squared_error: 0.1212 - binary_accuracy: 0.8338 - val_loss: 0.4243 - val_mean_squared_error: 0.1312 - val_binary_accuracy: 0.8182\n",
      "Epoch 11/80\n",
      "14016/14016 [==============================] - 51s 4ms/step - loss: 0.3743 - mean_squared_error: 0.1183 - binary_accuracy: 0.8354 - val_loss: 0.4052 - val_mean_squared_error: 0.1252 - val_binary_accuracy: 0.8236\n",
      "Epoch 12/80\n",
      "14016/14016 [==============================] - 52s 4ms/step - loss: 0.3731 - mean_squared_error: 0.1160 - binary_accuracy: 0.8418 - val_loss: 0.4076 - val_mean_squared_error: 0.1257 - val_binary_accuracy: 0.8231\n",
      "Epoch 13/80\n",
      "14016/14016 [==============================] - 52s 4ms/step - loss: 0.3629 - mean_squared_error: 0.1127 - binary_accuracy: 0.8450 - val_loss: 0.3982 - val_mean_squared_error: 0.1221 - val_binary_accuracy: 0.8273\n",
      "Epoch 14/80\n",
      "14016/14016 [==============================] - 53s 4ms/step - loss: 0.3686 - mean_squared_error: 0.1143 - binary_accuracy: 0.8444 - val_loss: 0.3934 - val_mean_squared_error: 0.1217 - val_binary_accuracy: 0.8279\n",
      "Epoch 15/80\n",
      "14016/14016 [==============================] - 52s 4ms/step - loss: 0.3619 - mean_squared_error: 0.1129 - binary_accuracy: 0.8428 - val_loss: 0.3645 - val_mean_squared_error: 0.1123 - val_binary_accuracy: 0.8428\n",
      "Epoch 16/80\n",
      "14016/14016 [==============================] - 52s 4ms/step - loss: 0.3593 - mean_squared_error: 0.1112 - binary_accuracy: 0.8485 - val_loss: 0.4039 - val_mean_squared_error: 0.1243 - val_binary_accuracy: 0.8288\n",
      "Epoch 17/80\n",
      "14016/14016 [==============================] - 52s 4ms/step - loss: 0.3561 - mean_squared_error: 0.1123 - binary_accuracy: 0.8440 - val_loss: 0.3946 - val_mean_squared_error: 0.1217 - val_binary_accuracy: 0.8305\n",
      "Epoch 18/80\n",
      "14016/14016 [==============================] - 51s 4ms/step - loss: 0.3558 - mean_squared_error: 0.1112 - binary_accuracy: 0.8472 - val_loss: 0.3997 - val_mean_squared_error: 0.1236 - val_binary_accuracy: 0.8271\n",
      "Epoch 19/80\n",
      "14016/14016 [==============================] - 51s 4ms/step - loss: 0.3544 - mean_squared_error: 0.1094 - binary_accuracy: 0.8492 - val_loss: 0.3670 - val_mean_squared_error: 0.1124 - val_binary_accuracy: 0.8456\n",
      "Epoch 20/80\n",
      "14016/14016 [==============================] - 51s 4ms/step - loss: 0.3500 - mean_squared_error: 0.1085 - binary_accuracy: 0.8505 - val_loss: 0.3803 - val_mean_squared_error: 0.1168 - val_binary_accuracy: 0.8390\n",
      "Epoch 21/80\n",
      "14016/14016 [==============================] - 52s 4ms/step - loss: 0.3442 - mean_squared_error: 0.1065 - binary_accuracy: 0.8545 - val_loss: 0.3817 - val_mean_squared_error: 0.1171 - val_binary_accuracy: 0.8396\n",
      "Epoch 22/80\n",
      "14016/14016 [==============================] - 51s 4ms/step - loss: 0.3442 - mean_squared_error: 0.1076 - binary_accuracy: 0.8508 - val_loss: 0.4037 - val_mean_squared_error: 0.1246 - val_binary_accuracy: 0.8273\n",
      "Epoch 23/80\n",
      "14016/14016 [==============================] - 51s 4ms/step - loss: 0.3430 - mean_squared_error: 0.1074 - binary_accuracy: 0.8535 - val_loss: 0.3877 - val_mean_squared_error: 0.1190 - val_binary_accuracy: 0.8345\n",
      "Epoch 24/80\n",
      "14016/14016 [==============================] - 54s 4ms/step - loss: 0.3420 - mean_squared_error: 0.1062 - binary_accuracy: 0.8550 - val_loss: 0.3725 - val_mean_squared_error: 0.1143 - val_binary_accuracy: 0.8396\n",
      "Epoch 25/80\n",
      "14016/14016 [==============================] - 52s 4ms/step - loss: 0.3347 - mean_squared_error: 0.1035 - binary_accuracy: 0.8584 - val_loss: 0.3634 - val_mean_squared_error: 0.1115 - val_binary_accuracy: 0.8445\n",
      "Epoch 26/80\n",
      "14016/14016 [==============================] - 51s 4ms/step - loss: 0.3344 - mean_squared_error: 0.1047 - binary_accuracy: 0.8572 - val_loss: 0.3619 - val_mean_squared_error: 0.1110 - val_binary_accuracy: 0.8490\n",
      "Epoch 27/80\n",
      "14016/14016 [==============================] - 52s 4ms/step - loss: 0.3343 - mean_squared_error: 0.1035 - binary_accuracy: 0.8596 - val_loss: 0.3857 - val_mean_squared_error: 0.1190 - val_binary_accuracy: 0.8356\n",
      "Epoch 28/80\n",
      "14016/14016 [==============================] - 51s 4ms/step - loss: 0.3316 - mean_squared_error: 0.1024 - binary_accuracy: 0.8594 - val_loss: 0.3837 - val_mean_squared_error: 0.1179 - val_binary_accuracy: 0.8356\n",
      "Epoch 29/80\n",
      "14016/14016 [==============================] - 51s 4ms/step - loss: 0.3294 - mean_squared_error: 0.1039 - binary_accuracy: 0.8597 - val_loss: 0.3608 - val_mean_squared_error: 0.1109 - val_binary_accuracy: 0.8485\n",
      "Epoch 30/80\n",
      "14016/14016 [==============================] - 52s 4ms/step - loss: 0.3240 - mean_squared_error: 0.1010 - binary_accuracy: 0.8622 - val_loss: 0.3682 - val_mean_squared_error: 0.1125 - val_binary_accuracy: 0.8476\n",
      "Epoch 31/80\n",
      "14016/14016 [==============================] - 52s 4ms/step - loss: 0.3263 - mean_squared_error: 0.1007 - binary_accuracy: 0.8624 - val_loss: 0.3713 - val_mean_squared_error: 0.1139 - val_binary_accuracy: 0.8450\n",
      "Epoch 32/80\n",
      "14016/14016 [==============================] - 52s 4ms/step - loss: 0.3284 - mean_squared_error: 0.1018 - binary_accuracy: 0.8608 - val_loss: 0.3734 - val_mean_squared_error: 0.1148 - val_binary_accuracy: 0.8425\n",
      "Epoch 33/80\n",
      "14016/14016 [==============================] - 51s 4ms/step - loss: 0.3249 - mean_squared_error: 0.1018 - binary_accuracy: 0.8623 - val_loss: 0.3696 - val_mean_squared_error: 0.1141 - val_binary_accuracy: 0.8445\n",
      "Epoch 34/80\n",
      "14016/14016 [==============================] - 51s 4ms/step - loss: 0.3245 - mean_squared_error: 0.1015 - binary_accuracy: 0.8619 - val_loss: 0.3558 - val_mean_squared_error: 0.1092 - val_binary_accuracy: 0.8519\n",
      "Epoch 35/80\n",
      "14016/14016 [==============================] - 50s 4ms/step - loss: 0.3200 - mean_squared_error: 0.0995 - binary_accuracy: 0.8652 - val_loss: 0.3521 - val_mean_squared_error: 0.1080 - val_binary_accuracy: 0.8547\n",
      "Epoch 36/80\n",
      "14016/14016 [==============================] - 52s 4ms/step - loss: 0.3204 - mean_squared_error: 0.1000 - binary_accuracy: 0.8640 - val_loss: 0.3720 - val_mean_squared_error: 0.1145 - val_binary_accuracy: 0.8467\n",
      "Epoch 37/80\n",
      "14016/14016 [==============================] - 51s 4ms/step - loss: 0.3202 - mean_squared_error: 0.1011 - binary_accuracy: 0.8632 - val_loss: 0.3737 - val_mean_squared_error: 0.1152 - val_binary_accuracy: 0.8450\n",
      "Epoch 38/80\n",
      "14016/14016 [==============================] - 52s 4ms/step - loss: 0.3174 - mean_squared_error: 0.0987 - binary_accuracy: 0.8656 - val_loss: 0.3858 - val_mean_squared_error: 0.1194 - val_binary_accuracy: 0.8373\n",
      "Epoch 39/80\n",
      "14016/14016 [==============================] - 51s 4ms/step - loss: 0.3171 - mean_squared_error: 0.0993 - binary_accuracy: 0.8650 - val_loss: 0.3742 - val_mean_squared_error: 0.1157 - val_binary_accuracy: 0.8447\n",
      "Epoch 40/80\n",
      "14016/14016 [==============================] - 51s 4ms/step - loss: 0.3118 - mean_squared_error: 0.0977 - binary_accuracy: 0.8687 - val_loss: 0.3854 - val_mean_squared_error: 0.1186 - val_binary_accuracy: 0.8416\n",
      "Epoch 41/80\n",
      "14016/14016 [==============================] - 51s 4ms/step - loss: 0.3133 - mean_squared_error: 0.0989 - binary_accuracy: 0.8664 - val_loss: 0.3524 - val_mean_squared_error: 0.1079 - val_binary_accuracy: 0.8564\n",
      "Epoch 42/80\n",
      "14016/14016 [==============================] - 51s 4ms/step - loss: 0.3102 - mean_squared_error: 0.0971 - binary_accuracy: 0.8679 - val_loss: 0.3699 - val_mean_squared_error: 0.1133 - val_binary_accuracy: 0.8482\n",
      "Epoch 43/80\n",
      "14016/14016 [==============================] - 51s 4ms/step - loss: 0.3088 - mean_squared_error: 0.0964 - binary_accuracy: 0.8678 - val_loss: 0.3553 - val_mean_squared_error: 0.1087 - val_binary_accuracy: 0.8539\n",
      "Epoch 44/80\n",
      "14016/14016 [==============================] - 52s 4ms/step - loss: 0.3075 - mean_squared_error: 0.0955 - binary_accuracy: 0.8727 - val_loss: 0.3942 - val_mean_squared_error: 0.1214 - val_binary_accuracy: 0.8370\n",
      "Epoch 45/80\n",
      "14016/14016 [==============================] - 51s 4ms/step - loss: 0.3032 - mean_squared_error: 0.0950 - binary_accuracy: 0.8717 - val_loss: 0.3599 - val_mean_squared_error: 0.1102 - val_binary_accuracy: 0.8505\n",
      "Epoch 46/80\n",
      "14016/14016 [==============================] - 52s 4ms/step - loss: 0.3040 - mean_squared_error: 0.0958 - binary_accuracy: 0.8684 - val_loss: 0.3593 - val_mean_squared_error: 0.1104 - val_binary_accuracy: 0.8507\n",
      "Epoch 47/80\n",
      "14016/14016 [==============================] - 51s 4ms/step - loss: 0.3028 - mean_squared_error: 0.0955 - binary_accuracy: 0.8683 - val_loss: 0.3636 - val_mean_squared_error: 0.1120 - val_binary_accuracy: 0.8490\n",
      "Epoch 48/80\n",
      "14016/14016 [==============================] - 52s 4ms/step - loss: 0.2999 - mean_squared_error: 0.0950 - binary_accuracy: 0.8724 - val_loss: 0.3716 - val_mean_squared_error: 0.1144 - val_binary_accuracy: 0.8462\n",
      "Epoch 49/80\n",
      "14016/14016 [==============================] - 51s 4ms/step - loss: 0.2955 - mean_squared_error: 0.0931 - binary_accuracy: 0.8731 - val_loss: 0.3775 - val_mean_squared_error: 0.1160 - val_binary_accuracy: 0.8445\n",
      "Epoch 50/80\n",
      "14016/14016 [==============================] - 51s 4ms/step - loss: 0.2955 - mean_squared_error: 0.0938 - binary_accuracy: 0.8730 - val_loss: 0.3851 - val_mean_squared_error: 0.1183 - val_binary_accuracy: 0.8425\n",
      "Epoch 51/80\n",
      "14016/14016 [==============================] - 52s 4ms/step - loss: 0.3012 - mean_squared_error: 0.0945 - binary_accuracy: 0.8712 - val_loss: 0.3638 - val_mean_squared_error: 0.1118 - val_binary_accuracy: 0.8510\n",
      "Epoch 52/80\n",
      "14016/14016 [==============================] - 51s 4ms/step - loss: 0.2907 - mean_squared_error: 0.0924 - binary_accuracy: 0.8761 - val_loss: 0.3680 - val_mean_squared_error: 0.1133 - val_binary_accuracy: 0.8485\n",
      "Epoch 53/80\n",
      "14016/14016 [==============================] - 51s 4ms/step - loss: 0.2925 - mean_squared_error: 0.0915 - binary_accuracy: 0.8751 - val_loss: 0.3740 - val_mean_squared_error: 0.1152 - val_binary_accuracy: 0.8465\n",
      "Epoch 54/80\n",
      "14016/14016 [==============================] - 52s 4ms/step - loss: 0.2957 - mean_squared_error: 0.0924 - binary_accuracy: 0.8779 - val_loss: 0.3897 - val_mean_squared_error: 0.1201 - val_binary_accuracy: 0.8408\n",
      "Epoch 55/80\n",
      "14016/14016 [==============================] - 51s 4ms/step - loss: 0.2875 - mean_squared_error: 0.0911 - binary_accuracy: 0.8758 - val_loss: 0.3723 - val_mean_squared_error: 0.1138 - val_binary_accuracy: 0.8485\n",
      "Epoch 56/80\n",
      "14016/14016 [==============================] - 51s 4ms/step - loss: 0.2896 - mean_squared_error: 0.0909 - binary_accuracy: 0.8790 - val_loss: 0.3769 - val_mean_squared_error: 0.1155 - val_binary_accuracy: 0.8465\n",
      "Epoch 57/80\n",
      "14016/14016 [==============================] - 52s 4ms/step - loss: 0.2901 - mean_squared_error: 0.0920 - binary_accuracy: 0.8753 - val_loss: 0.3710 - val_mean_squared_error: 0.1138 - val_binary_accuracy: 0.8479\n",
      "Epoch 58/80\n",
      "14016/14016 [==============================] - 51s 4ms/step - loss: 0.2848 - mean_squared_error: 0.0898 - binary_accuracy: 0.8801 - val_loss: 0.3761 - val_mean_squared_error: 0.1155 - val_binary_accuracy: 0.8473\n",
      "Epoch 59/80\n",
      "14016/14016 [==============================] - 52s 4ms/step - loss: 0.2862 - mean_squared_error: 0.0889 - binary_accuracy: 0.8806 - val_loss: 0.3667 - val_mean_squared_error: 0.1125 - val_binary_accuracy: 0.8496\n",
      "Epoch 60/80\n",
      "14016/14016 [==============================] - 52s 4ms/step - loss: 0.2854 - mean_squared_error: 0.0893 - binary_accuracy: 0.8803 - val_loss: 0.3863 - val_mean_squared_error: 0.1194 - val_binary_accuracy: 0.8419\n",
      "Epoch 61/80\n",
      "14016/14016 [==============================] - 51s 4ms/step - loss: 0.2873 - mean_squared_error: 0.0920 - binary_accuracy: 0.8750 - val_loss: 0.3607 - val_mean_squared_error: 0.1102 - val_binary_accuracy: 0.8519\n",
      "Epoch 62/80\n",
      "14016/14016 [==============================] - 52s 4ms/step - loss: 0.2888 - mean_squared_error: 0.0896 - binary_accuracy: 0.8774 - val_loss: 0.3934 - val_mean_squared_error: 0.1221 - val_binary_accuracy: 0.8393\n",
      "Epoch 63/80\n",
      "14016/14016 [==============================] - 52s 4ms/step - loss: 0.2806 - mean_squared_error: 0.0895 - binary_accuracy: 0.8779 - val_loss: 0.3654 - val_mean_squared_error: 0.1121 - val_binary_accuracy: 0.8519\n",
      "Epoch 64/80\n",
      "14016/14016 [==============================] - 51s 4ms/step - loss: 0.2860 - mean_squared_error: 0.0884 - binary_accuracy: 0.8810 - val_loss: 0.4116 - val_mean_squared_error: 0.1280 - val_binary_accuracy: 0.8296\n",
      "Epoch 65/80\n",
      "14016/14016 [==============================] - 51s 4ms/step - loss: 0.2824 - mean_squared_error: 0.0885 - binary_accuracy: 0.8821 - val_loss: 0.3751 - val_mean_squared_error: 0.1159 - val_binary_accuracy: 0.8482\n",
      "Epoch 66/80\n",
      "14016/14016 [==============================] - 51s 4ms/step - loss: 0.2750 - mean_squared_error: 0.0878 - binary_accuracy: 0.8824 - val_loss: 0.3628 - val_mean_squared_error: 0.1116 - val_binary_accuracy: 0.8513\n",
      "Epoch 67/80\n",
      "14016/14016 [==============================] - 51s 4ms/step - loss: 0.2737 - mean_squared_error: 0.0860 - binary_accuracy: 0.8826 - val_loss: 0.3774 - val_mean_squared_error: 0.1154 - val_binary_accuracy: 0.8485\n",
      "Epoch 68/80\n",
      "14016/14016 [==============================] - 51s 4ms/step - loss: 0.2732 - mean_squared_error: 0.0858 - binary_accuracy: 0.8851 - val_loss: 0.3759 - val_mean_squared_error: 0.1157 - val_binary_accuracy: 0.8487\n",
      "Epoch 69/80\n",
      "14016/14016 [==============================] - 52s 4ms/step - loss: 0.2746 - mean_squared_error: 0.0883 - binary_accuracy: 0.8781 - val_loss: 0.3649 - val_mean_squared_error: 0.1123 - val_binary_accuracy: 0.8505\n",
      "Epoch 70/80\n",
      "14016/14016 [==============================] - 50s 4ms/step - loss: 0.2724 - mean_squared_error: 0.0868 - binary_accuracy: 0.8816 - val_loss: 0.3782 - val_mean_squared_error: 0.1164 - val_binary_accuracy: 0.8476\n",
      "Epoch 71/80\n",
      "14016/14016 [==============================] - 51s 4ms/step - loss: 0.2750 - mean_squared_error: 0.0864 - binary_accuracy: 0.8847 - val_loss: 0.3664 - val_mean_squared_error: 0.1128 - val_binary_accuracy: 0.8516\n",
      "Epoch 72/80\n",
      "14016/14016 [==============================] - 51s 4ms/step - loss: 0.2623 - mean_squared_error: 0.0847 - binary_accuracy: 0.8846 - val_loss: 0.3779 - val_mean_squared_error: 0.1161 - val_binary_accuracy: 0.8445\n",
      "Epoch 73/80\n",
      "14016/14016 [==============================] - 51s 4ms/step - loss: 0.2733 - mean_squared_error: 0.0861 - binary_accuracy: 0.8837 - val_loss: 0.3993 - val_mean_squared_error: 0.1228 - val_binary_accuracy: 0.8390\n",
      "Epoch 74/80\n",
      "14016/14016 [==============================] - 51s 4ms/step - loss: 0.2661 - mean_squared_error: 0.0860 - binary_accuracy: 0.8838 - val_loss: 0.3757 - val_mean_squared_error: 0.1154 - val_binary_accuracy: 0.8490\n"
     ]
    },
    {
     "name": "stdout",
     "output_type": "stream",
     "text": [
      "Epoch 75/80\n",
      "14016/14016 [==============================] - 51s 4ms/step - loss: 0.2657 - mean_squared_error: 0.0841 - binary_accuracy: 0.8866 - val_loss: 0.3911 - val_mean_squared_error: 0.1208 - val_binary_accuracy: 0.8408\n",
      "Epoch 76/80\n",
      "14016/14016 [==============================] - 51s 4ms/step - loss: 0.2653 - mean_squared_error: 0.0853 - binary_accuracy: 0.8841 - val_loss: 0.3610 - val_mean_squared_error: 0.1105 - val_binary_accuracy: 0.8545\n",
      "Epoch 77/80\n",
      "14016/14016 [==============================] - 51s 4ms/step - loss: 0.2638 - mean_squared_error: 0.0842 - binary_accuracy: 0.8842 - val_loss: 0.3749 - val_mean_squared_error: 0.1155 - val_binary_accuracy: 0.8467\n",
      "Epoch 78/80\n",
      "14016/14016 [==============================] - 51s 4ms/step - loss: 0.2635 - mean_squared_error: 0.0828 - binary_accuracy: 0.8877 - val_loss: 0.3762 - val_mean_squared_error: 0.1157 - val_binary_accuracy: 0.8473\n",
      "Epoch 79/80\n",
      "14016/14016 [==============================] - 51s 4ms/step - loss: 0.2607 - mean_squared_error: 0.0833 - binary_accuracy: 0.8874 - val_loss: 0.3872 - val_mean_squared_error: 0.1195 - val_binary_accuracy: 0.8416\n",
      "Epoch 80/80\n",
      "14016/14016 [==============================] - 51s 4ms/step - loss: 0.2610 - mean_squared_error: 0.0839 - binary_accuracy: 0.8878 - val_loss: 0.3794 - val_mean_squared_error: 0.1170 - val_binary_accuracy: 0.8465\n",
      "Model took 4123.93 seconds to train\n"
     ]
    }
   ],
   "source": [
    "start = time.time()\n",
    "history=deep_model.fit(x_train, y_train, validation_data=(x_test, y_test),\n",
    "                       epochs=model_epoch, \n",
    "                       batch_size=model_batch,\n",
    "                       class_weight=class_weight_dict,\n",
    "                       callbacks=[modelcheckpoint]\n",
    "                      )\n",
    "end = time.time()\n",
    "print (\"Model took %0.2f seconds to train\"%(end - start))"
   ]
  },
  {
   "cell_type": "markdown",
   "metadata": {},
   "source": [
    "#### Changing the trained model weights between different epoch"
   ]
  },
  {
   "cell_type": "code",
   "execution_count": 44,
   "metadata": {
    "collapsed": true
   },
   "outputs": [],
   "source": [
    "deep_model.load_weights(output_dir+\"/weights.35.hdf5\")   #To choose a particular epoch weights to initialise model "
   ]
  },
  {
   "cell_type": "markdown",
   "metadata": {},
   "source": [
    "#### Look at the Probability Distribution of the test data prediction"
   ]
  },
  {
   "cell_type": "code",
   "execution_count": 45,
   "metadata": {
    "collapsed": true
   },
   "outputs": [],
   "source": [
    "y_hat = deep_model.predict_proba(x_test)"
   ]
  },
  {
   "cell_type": "code",
   "execution_count": 48,
   "metadata": {},
   "outputs": [
    {
     "data": {
      "image/png": "[encoded data removed]",
      "text/plain": [
       "<Figure size 432x288 with 1 Axes>"
      ]
     },
     "metadata": {},
     "output_type": "display_data"
    }
   ],
   "source": [
    "plt.hist(y_hat)\n",
    "plt.show()"
   ]
  },
  {
   "cell_type": "markdown",
   "metadata": {},
   "source": [
    "### Evaluate Model Training"
   ]
  },
  {
   "cell_type": "markdown",
   "metadata": {},
   "source": [
    "#### Training Plots of different metrics on train and test data"
   ]
  },
  {
   "cell_type": "code",
   "execution_count": 35,
   "metadata": {},
   "outputs": [
    {
     "data": {
      "image/png": "[encoded data removed]",
      "text/plain": [
       "<Figure size 432x288 with 1 Axes>"
      ]
     },
     "metadata": {},
     "output_type": "display_data"
    }
   ],
   "source": [
    "# summarize history for MSE\n",
    "plt.plot(history.history['mean_squared_error'])\n",
    "plt.plot(history.history['val_mean_squared_error'])\n",
    "plt.title('model mean_squared_error')\n",
    "plt.ylabel('mean_squared_error')\n",
    "plt.xlabel('epoch')\n",
    "plt.legend(['train', 'test'], loc='upper left')\n",
    "plt.show()"
   ]
  },
  {
   "cell_type": "code",
   "execution_count": 36,
   "metadata": {},
   "outputs": [
    {
     "data": {
      "image/png": "[encoded data removed]",
      "text/plain": [
       "<Figure size 432x288 with 1 Axes>"
      ]
     },
     "metadata": {},
     "output_type": "display_data"
    }
   ],
   "source": [
    "# summarize history for Loss\n",
    "plt.plot(history.history['loss'])\n",
    "plt.plot(history.history['val_loss'])\n",
    "plt.title('model loss')\n",
    "plt.ylabel('loss')\n",
    "plt.xlabel('epoch')\n",
    "plt.legend(['train', 'test'], loc='upper left')\n",
    "plt.show()"
   ]
  },
  {
   "cell_type": "code",
   "execution_count": 37,
   "metadata": {},
   "outputs": [
    {
     "data": {
      "image/png": "[encoded data removed]",
      "text/plain": [
       "<Figure size 432x288 with 1 Axes>"
      ]
     },
     "metadata": {},
     "output_type": "display_data"
    }
   ],
   "source": [
    "# summarize history for Categorical Accuracy (Binary)\n",
    "plt.plot(history.history['binary_accuracy'])\n",
    "plt.plot(history.history['val_binary_accuracy'])\n",
    "plt.title('model binary_accuracy')\n",
    "plt.ylabel('binary_accuracy')\n",
    "plt.xlabel('epoch')\n",
    "plt.legend(['train', 'test'], loc='upper left')\n",
    "plt.show()"
   ]
  },
  {
   "cell_type": "markdown",
   "metadata": {},
   "source": [
    "### Evaluate Model Performance"
   ]
  },
  {
   "cell_type": "markdown",
   "metadata": {},
   "source": [
    "#### Defining the Functions"
   ]
  },
  {
   "cell_type": "code",
   "execution_count": 50,
   "metadata": {
    "collapsed": true
   },
   "outputs": [],
   "source": [
    "# To Visualise the Confusion Matrix\n",
    "def show_confusion_matrix(C,class_labels=['RMA','NO RMA']): \n",
    "        assert C.shape == (2,2), \"Confusion matrix should be from binary classification only.\"\n",
    "        # true negative, false positive, etc...\n",
    "        tn = C[0,0]; fp = C[0,1]; fn = C[1,0]; tp = C[1,1];\n",
    "        NP = fn+tp # Num positive examples\n",
    "        NN = tn+fp # Num negative examples\n",
    "        N  = NP+NN\n",
    "        fig = plt.figure(figsize=(8,8))\n",
    "        ax  = fig.add_subplot(111)\n",
    "        ax.imshow(C, interpolation='nearest', cmap=plt.cm.gray)\n",
    "\n",
    "        # Draw the grid boxes\n",
    "        ax.set_xlim(-0.5,2.5)\n",
    "        ax.set_ylim(2.5,-0.5)\n",
    "        ax.plot([-0.5,2.5],[0.5,0.5], '-k', lw=2)\n",
    "        ax.plot([-0.5,2.5],[1.5,1.5], '-k', lw=2)\n",
    "        ax.plot([0.5,0.5],[-0.5,2.5], '-k', lw=2)\n",
    "        ax.plot([1.5,1.5],[-0.5,2.5], '-k', lw=2)\n",
    "\n",
    "        # Set xlabels\n",
    "        ax.set_xlabel('Predicted Label', fontsize=16)\n",
    "        ax.set_xticks([0,1,2])\n",
    "        ax.set_xticklabels(class_labels + [''])\n",
    "        ax.xaxis.set_label_position('top')\n",
    "        ax.xaxis.tick_top()\n",
    "        # These coordinate might require some tinkering. Ditto for y, below.\n",
    "        ax.xaxis.set_label_coords(0.34,1.06)\n",
    "\n",
    "        # Set ylabels\n",
    "        ax.set_ylabel('True Label', fontsize=16, rotation=90)\n",
    "        ax.set_yticklabels(class_labels + [''],rotation=90)\n",
    "        ax.set_yticks([0,1,2])\n",
    "        ax.yaxis.set_label_coords(-0.09,0.65)\n",
    "\n",
    "        # Fill in initial metrics: tp, tn, etc...\n",
    "        ax.text(0,0,'True Neg: %d\\n(Num Neg: %d)'%(tn,NN),va='center',ha='center',bbox=dict(fc='w',boxstyle='round,pad=1'))\n",
    "        ax.text(0,1,'False Neg: %d'%fn,va='center',ha='center',bbox=dict(fc='w',boxstyle='round,pad=1'))\n",
    "        ax.text(1,0,'False Pos: %d'%fp,va='center',ha='center',bbox=dict(fc='w',boxstyle='round,pad=1'))\n",
    "        ax.text(1,1,'True Pos: %d\\n(Num Pos: %d)'%(tp,NP),va='center',ha='center',bbox=dict(fc='w',boxstyle='round,pad=1'))\n",
    "        # Fill in secondary metrics: accuracy, true pos rate, etc...\n",
    "        ax.text(2,0,'False Pos Rate: %.2f'%(fp / (fp+tn+0.)),va='center',ha='center',bbox=dict(fc='w',boxstyle='round,pad=1'))\n",
    "        ax.text(2,1,'True Pos Rate: %.2f'%(tp / (tp+fn+0.)),va='center',ha='center',bbox=dict(fc='w',boxstyle='round,pad=1'))\n",
    "        ax.text(2,2,'Accuracy: %.2f'%((tp+tn+0.)/N),va='center',ha='center',bbox=dict(fc='w',boxstyle='round,pad=1'))\n",
    "        ax.text(0,2,'Neg Pre Val: %.2f'%(1-fn/(fn+tn+0.)),va='center',ha='center',bbox=dict(fc='w',boxstyle='round,pad=1'))\n",
    "        ax.text(1,2,'Pos Pred Val: %.2f'%(tp/(tp+fp+0.)),va='center',ha='center',bbox=dict(fc='w',boxstyle='round,pad=1'))\n",
    "        plt.tight_layout()\n",
    "        plt.show()\n",
    "\n",
    "#To Find the optimal cutoff from P\n",
    "def Find_Optimal_Cutoff(df):\n",
    "    target=list(df['Actual'])\n",
    "    predicted=list(df['Probability'])\n",
    "    #print(target,predicted)\n",
    "    fpr, tpr, threshold = roc_curve(target, predicted)\n",
    "    i = np.arange(len(tpr)) \n",
    "    roc = pd.DataFrame({'tf' : pd.Series(tpr-(1-fpr), index=i), 'threshold' : pd.Series(threshold, index=i)})\n",
    "    roc_t = roc.ix[(roc.tf-0).abs().argsort()[:1]]\n",
    "\n",
    "    return list(roc_t['threshold']) \n"
   ]
  },
  {
   "cell_type": "markdown",
   "metadata": {},
   "source": [
    "#### Getting Predictions on Test Data"
   ]
  },
  {
   "cell_type": "code",
   "execution_count": 51,
   "metadata": {
    "collapsed": true
   },
   "outputs": [],
   "source": [
    "# Predict Classes\n",
    "ytest_pred=deep_model.predict_classes(x_test)"
   ]
  },
  {
   "cell_type": "code",
   "execution_count": 52,
   "metadata": {
    "collapsed": true
   },
   "outputs": [],
   "source": [
    "# Predict Probabilities\n",
    "ytest_proba=deep_model.predict(x_test)"
   ]
  },
  {
   "cell_type": "markdown",
   "metadata": {},
   "source": [
    "#### Plot the ROC curve and get the AUC"
   ]
  },
  {
   "cell_type": "code",
   "execution_count": 54,
   "metadata": {},
   "outputs": [
    {
     "name": "stdout",
     "output_type": "stream",
     "text": [
      "0.917736657873\n"
     ]
    },
    {
     "data": {
      "image/png": "[encoded data removed]",
      "text/plain": [
       "<Figure size 792x576 with 1 Axes>"
      ]
     },
     "metadata": {},
     "output_type": "display_data"
    },
    {
     "data": {
      "text/plain": [
       "<ggplot: (-9223363282484408860)>"
      ]
     },
     "execution_count": 54,
     "metadata": {},
     "output_type": "execute_result"
    }
   ],
   "source": [
    "fpr, tpr, _ = roc_curve(check['Actual'], check['Probability'])\n",
    "print(roc_auc_score(check['Actual'], check['Probability']))\n",
    "df = pd.DataFrame(dict(fpr=fpr, tpr=tpr))\n",
    "ggplot(df, aes(x='fpr', y='tpr')) +\\\n",
    "    geom_line() +\\\n",
    "    geom_abline(linetype='dashed')"
   ]
  },
  {
   "cell_type": "markdown",
   "metadata": {},
   "source": [
    "#### Test Data Confusion Matrix (Before Threshold)"
   ]
  },
  {
   "cell_type": "code",
   "execution_count": 55,
   "metadata": {},
   "outputs": [
    {
     "data": {
      "image/png": "[encoded data removed]",
      "text/plain": [
       "<Figure size 576x576 with 1 Axes>"
      ]
     },
     "metadata": {},
     "output_type": "display_data"
    }
   ],
   "source": [
    "C1=confusion_matrix(test_label,ytest_pred)\n",
    "show_confusion_matrix(C1)"
   ]
  }
 ],
 "metadata": {
  "kernelspec": {
   "display_name": "Python 3",
   "language": "python",
   "name": "python3"
  },
  "language_info": {
   "codemirror_mode": {
    "name": "ipython",
    "version": 3
   },
   "file_extension": ".py",
   "mimetype": "text/x-python",
   "name": "python",
   "nbconvert_exporter": "python",
   "pygments_lexer": "ipython3",
   "version": "3.6.3"
  }
 },
 "nbformat": 4,
 "nbformat_minor": 2
}
